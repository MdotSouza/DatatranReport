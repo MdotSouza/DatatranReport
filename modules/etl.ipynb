{
 "cells": [
  {
   "cell_type": "code",
   "execution_count": 18,
   "metadata": {},
   "outputs": [],
   "source": [
    "import pandas as pd\n",
    "from resources.connection import Conn\n",
    "PATH_DATASET = \"resources/datatran2022.csv\"\n",
    "SCHEMA = \"datatran\"\n"
   ]
  },
  {
   "attachments": {},
   "cell_type": "markdown",
   "metadata": {},
   "source": [
    "EXTRACT"
   ]
  },
  {
   "cell_type": "code",
   "execution_count": 10,
   "metadata": {},
   "outputs": [],
   "source": [
    "def createDataFrame():    \n",
    "    df = pd.read_csv(PATH_DATASET,sep=\";\",encoding=\"cp1252\") \n",
    "    return df"
   ]
  },
  {
   "attachments": {},
   "cell_type": "markdown",
   "metadata": {},
   "source": [
    "TRANSFORM"
   ]
  },
  {
   "cell_type": "code",
   "execution_count": 16,
   "metadata": {},
   "outputs": [],
   "source": [
    "def changeDataFrame(df):\n",
    "    df['br'] = df['br'].fillna(0)\n",
    "    df['br'] = df['br'].astype('int64')\n",
    "    notUsedCols = [\"km\",\n",
    "                   \"municipio\",\n",
    "                   \"fase_dia\",\n",
    "                   \"sentido_via\",\n",
    "                   \"tipo_pista\",\n",
    "                   \"tracado_via\",\n",
    "                   \"uso_solo\",\n",
    "                   \"pessoas\",\n",
    "                   \"feridos\",\n",
    "                   \"latitude\",\n",
    "                   \"longitude\",\n",
    "                   \"regional\",\n",
    "                   \"delegacia\",\n",
    "                   \"uop\"]\n",
    "    return df.drop(columns=notUsedCols)"
   ]
  },
  {
   "attachments": {},
   "cell_type": "markdown",
   "metadata": {},
   "source": [
    "LOAD"
   ]
  },
  {
   "cell_type": "code",
   "execution_count": null,
   "metadata": {},
   "outputs": [],
   "source": [
    "def loadTables(df):\n",
    "    #laod Auxiliaries Tables\n",
    "    dictAux = {'dia_semana':'dias',\n",
    "               'uf':'estado',\n",
    "               'causa_acidente':'causas',\n",
    "               'tipo_acidente':'tipos',\n",
    "               'classificacao_acidente':'classificacoes',\n",
    "               'condicao_metereologica':'condicoes'}\n",
    "    \n",
    "    for col, table in dictAux.items():\n",
    "        df[[col]].to_sql(table,con=Conn(),schema=SCHEMA,if_exists='append')\n",
    "\n",
    "\n",
    "    #laod Accidents Table\n",
    "    tableAcc = 'acidentes'\n",
    "    usedColsAcc = ['id','data_inversa','horario','br','mortos', 'feridos_leves', 'feridos_graves','ilesos', 'ignorados', 'veiculos']\n",
    "    df[usedColsAcc].to_sql(tableAcc,con=Conn(),schema=SCHEMA,if_exists='append')"
   ]
  },
  {
   "attachments": {},
   "cell_type": "markdown",
   "metadata": {},
   "source": [
    "MAIN"
   ]
  },
  {
   "cell_type": "code",
   "execution_count": 17,
   "metadata": {},
   "outputs": [],
   "source": [
    "def normalize():\n",
    "    #build general DataFrame\n",
    "    dfDatatran = createDataFrame()\n",
    "\n",
    "    #modify general DataFrame\n",
    "    dfDatatran = changeDataFrame(dfDatatran)\n",
    "\n",
    "    #load Tables\n",
    "    loadTables(dfDatatran)"
   ]
  }
 ],
 "metadata": {
  "kernelspec": {
   "display_name": "project-env",
   "language": "python",
   "name": "python3"
  },
  "language_info": {
   "codemirror_mode": {
    "name": "ipython",
    "version": 3
   },
   "file_extension": ".py",
   "mimetype": "text/x-python",
   "name": "python",
   "nbconvert_exporter": "python",
   "pygments_lexer": "ipython3",
   "version": "3.7.3"
  },
  "orig_nbformat": 4
 },
 "nbformat": 4,
 "nbformat_minor": 2
}
